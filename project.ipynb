{
 "cells": [
  {
   "cell_type": "code",
   "execution_count": 5,
   "metadata": {},
   "outputs": [],
   "source": [
    "from src.articles_extraction import ArticlesExtraction\n",
    "from src.terms_extraction import RuleBasedExtractor\n",
    "from src.texts_annotation import Annotator\n",
    "import os\n",
    "from collections import Counter\n"
   ]
  },
  {
   "cell_type": "code",
   "execution_count": 2,
   "metadata": {},
   "outputs": [
    {
     "name": "stdout",
     "output_type": "stream",
     "text": [
      "Getting the links for 11 articles...\n",
      "Getting the texts...\n"
     ]
    }
   ],
   "source": [
    "artextr = ArticlesExtraction(11, save_txt=False, save_pdf=False)\n",
    "articles = artextr.extract()\n",
    "texts = [x for x in list(articles.values())]\n"
   ]
  },
  {
   "cell_type": "code",
   "execution_count": 3,
   "metadata": {},
   "outputs": [
    {
     "data": {
      "text/plain": [
       "11"
      ]
     },
     "execution_count": 3,
     "metadata": {},
     "output_type": "execute_result"
    }
   ],
   "source": [
    "len(texts)\n"
   ]
  },
  {
   "cell_type": "code",
   "execution_count": null,
   "metadata": {},
   "outputs": [],
   "source": [
    "test = annotations[20:] # 5 articles\n",
    "train = annotations[:20] # 20 articles"
   ]
  },
  {
   "cell_type": "code",
   "execution_count": 4,
   "metadata": {},
   "outputs": [
    {
     "name": "stdout",
     "output_type": "stream",
     "text": [
      "1/11 texts processed\n",
      "10/11 texts processed\n"
     ]
    }
   ],
   "source": [
    "r = RuleBasedExtractor()\n",
    "all_terms = r.extract(texts)\n"
   ]
  },
  {
   "cell_type": "code",
   "execution_count": 7,
   "metadata": {},
   "outputs": [
    {
     "data": {
      "text/plain": [
       "['tropical forest',\n",
       " 'mature tropical forest',\n",
       " 'many mature tropical forest',\n",
       " 'ecological significance',\n",
       " 'p stock',\n",
       " 'stock as soil',\n",
       " 'soil age',\n",
       " 'tropical forest',\n",
       " 'forest soil',\n",
       " 'various form']"
      ]
     },
     "execution_count": 7,
     "metadata": {},
     "output_type": "execute_result"
    }
   ],
   "source": [
    "all_terms[:10]\n"
   ]
  },
  {
   "cell_type": "code",
   "execution_count": 11,
   "metadata": {},
   "outputs": [],
   "source": [
    "if not os.path.exists('data/'):\n",
    "    os.mkdir('data')\n",
    "\n",
    "popular_terms = Counter([x.lower() for x in all_terms]).most_common(200)\n",
    "with open('data/auto_popular_terms.txt', 'w', encoding='utf-8') as autoterms:\n",
    "    for term in popular_terms:\n",
    "        autoterms.write(term[0]+'\\n')\n"
   ]
  },
  {
   "cell_type": "code",
   "execution_count": 12,
   "metadata": {},
   "outputs": [],
   "source": [
    "with open('data/manual_popular_terms.txt', encoding='utf-8') as terms:\n",
    "    terms = terms.read().split('\\n')\n"
   ]
  },
  {
   "cell_type": "code",
   "execution_count": 15,
   "metadata": {},
   "outputs": [
    {
     "name": "stdout",
     "output_type": "stream",
     "text": [
      "Number of terms before manual filtering: 200\n",
      "Number of terms after manual filtering: 174\n"
     ]
    }
   ],
   "source": [
    "print(f'Number of terms before manual filtering: {len(popular_terms)}')\n",
    "print(f'Number of terms after manual filtering: {len(terms)}')\n"
   ]
  },
  {
   "cell_type": "code",
   "execution_count": null,
   "metadata": {},
   "outputs": [],
   "source": []
  }
 ],
 "metadata": {
  "interpreter": {
   "hash": "aee8b7b246df8f9039afb4144a1f6fd8d2ca17a180786b69acc140d282b71a49"
  },
  "kernelspec": {
   "display_name": "Python 3.6.8 64-bit",
   "name": "python3"
  },
  "language_info": {
   "codemirror_mode": {
    "name": "ipython",
    "version": 3
   },
   "file_extension": ".py",
   "mimetype": "text/x-python",
   "name": "python",
   "nbconvert_exporter": "python",
   "pygments_lexer": "ipython3",
   "version": "3.6.8"
  },
  "orig_nbformat": 4
 },
 "nbformat": 4,
 "nbformat_minor": 2
}