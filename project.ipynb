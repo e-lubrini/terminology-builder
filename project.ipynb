{
 "cells": [
  {
   "cell_type": "code",
   "execution_count": 1,
   "metadata": {},
   "outputs": [],
   "source": [
    "import os\n",
    "from collections import Counter\n",
    "\n",
    "import seaborn as sns\n",
    "import torch\n",
    "import torch.nn as nn\n",
    "import torch.optim as optim\n",
    "from sklearn.metrics import confusion_matrix, classification_report\n",
    "from sklearn.utils.class_weight import compute_class_weight\n",
    "from sklearn_crfsuite import metrics\n",
    "from src.articles_extraction import ArticlesExtraction\n",
    "from src.sequence_tagger import CRFSequenceClassifier, GRUTagger, Dataset, train_model, evaluate, convert_data\n",
    "from src.terms_extraction import RuleBasedExtractor\n",
    "from src.texts_annotation import Annotator, TerminologyTree, fill_terminology_tree"
   ]
  },
  {
   "cell_type": "markdown",
   "metadata": {},
   "source": [
    "## Articles extraction"
   ]
  },
  {
   "cell_type": "code",
   "execution_count": 2,
   "metadata": {},
   "outputs": [
    {
     "name": "stdout",
     "output_type": "stream",
     "text": [
      "Getting the links for 30 articles...\n",
      "Getting the texts...\n"
     ]
    }
   ],
   "source": [
    "artextr = ArticlesExtraction(30, save_txt=False, save_pdf=False)\n",
    "articles = artextr.extract()\n",
    "texts = [x for x in list(articles.values())]\n"
   ]
  },
  {
   "cell_type": "code",
   "execution_count": 3,
   "metadata": {},
   "outputs": [],
   "source": [
    "train = texts[:20]  # 20 articles for training\n",
    "test = texts[20:]  # 10 articles for testing"
   ]
  },
  {
   "cell_type": "markdown",
   "metadata": {},
   "source": [
    "## Rule-based terms extraction"
   ]
  },
  {
   "cell_type": "code",
   "execution_count": 4,
   "metadata": {},
   "outputs": [],
   "source": [
    "r = RuleBasedExtractor()\n",
    "all_terms = r.extract(train)\n"
   ]
  },
  {
   "cell_type": "code",
   "execution_count": 5,
   "metadata": {},
   "outputs": [
    {
     "name": "stdout",
     "output_type": "stream",
     "text": [
      "Number of extracted terms: 23977\n"
     ]
    }
   ],
   "source": [
    "print(f'Number of extracted terms: {len(all_terms)}')"
   ]
  },
  {
   "cell_type": "code",
   "execution_count": 6,
   "metadata": {},
   "outputs": [
    {
     "name": "stdout",
     "output_type": "stream",
     "text": [
      "10 first extracted terms\n",
      "1. tropical forest\n",
      "2. mature tropical forest\n",
      "3. many mature tropical forest\n",
      "4. ecological significance\n",
      "5. p stock\n",
      "6. stock as soil\n",
      "7. soil age\n",
      "8. tropical forest\n",
      "9. forest soil\n",
      "10. various form\n"
     ]
    }
   ],
   "source": [
    "print('10 first extracted terms')\n",
    "for num, term in enumerate(all_terms[:10]):\n",
    "    print(f'{num + 1}. {term}')\n"
   ]
  },
  {
   "cell_type": "markdown",
   "metadata": {},
   "source": [
    "Saving 200 the most popular terms in 'data/auto_popular_terms.txt'"
   ]
  },
  {
   "cell_type": "code",
   "execution_count": 7,
   "metadata": {},
   "outputs": [],
   "source": [
    "if not os.path.exists('data/'):\n",
    "    os.mkdir('data')\n",
    "\n",
    "popular_terms = Counter([x.lower() for x in all_terms]).most_common(200)\n",
    "with open('data/auto_popular_terms.txt', 'w', encoding='utf-8') as autoterms:\n",
    "    for term in popular_terms:\n",
    "        autoterms.write(term[0] + '\\n')\n"
   ]
  },
  {
   "cell_type": "markdown",
   "metadata": {},
   "source": [
    "Filtered terms extraction"
   ]
  },
  {
   "cell_type": "code",
   "execution_count": 8,
   "metadata": {},
   "outputs": [],
   "source": [
    "# there are more terms both in manual_popular_terms and auto_popular_terms, as we filtered the terms several times on different articles, \n",
    "# so we decided to add all already extracted terms to the end of these files\n",
    "with open('data/manual_popular_terms.txt', encoding='utf-8') as terms:\n",
    "    terms = terms.read().split('\\n')"
   ]
  },
  {
   "cell_type": "code",
   "execution_count": 9,
   "metadata": {},
   "outputs": [
    {
     "name": "stdout",
     "output_type": "stream",
     "text": [
      "Number of terms before manual filtering: 200\n",
      "Number of terms after manual filtering: 205\n"
     ]
    }
   ],
   "source": [
    "print(f'Number of terms before manual filtering: {len(popular_terms)}')\n",
    "print(f'Number of terms after manual filtering: {len(terms)}')\n"
   ]
  },
  {
   "cell_type": "markdown",
   "metadata": {},
   "source": [
    "## Datasets annotation"
   ]
  },
  {
   "cell_type": "code",
   "execution_count": 10,
   "metadata": {},
   "outputs": [],
   "source": [
    "anno = Annotator()\n",
    "tree = TerminologyTree()\n",
    "terminology = [t.split(' ') for t in terms]\n",
    "fill_terminology_tree(terminology, tree)\n",
    "annotated_train = [anno.annotate(tree, text) for text in train]\n",
    "annotated_test = [anno.annotate(tree, text) for text in test]"
   ]
  },
  {
   "cell_type": "markdown",
   "metadata": {},
   "source": [
    "## Tagging with supervised learning algorithm"
   ]
  },
  {
   "cell_type": "markdown",
   "metadata": {},
   "source": [
    "CRF sequence classifier training"
   ]
  },
  {
   "cell_type": "code",
   "execution_count": 11,
   "metadata": {},
   "outputs": [],
   "source": [
    "seq = CRFSequenceClassifier()\n",
    "X_train, y_train = seq.convert_corpus(annotated_train)\n",
    "model = seq.fit(X_train, y_train)\n",
    "labels = list(model.classes_)"
   ]
  },
  {
   "cell_type": "markdown",
   "metadata": {},
   "source": [
    "Computing model's predictions"
   ]
  },
  {
   "cell_type": "code",
   "execution_count": 12,
   "metadata": {},
   "outputs": [
    {
     "name": "stdout",
     "output_type": "stream",
     "text": [
      "F1-score weighted: 0.993382049840628\n"
     ]
    }
   ],
   "source": [
    "X_test, y_test = seq.convert_corpus(annotated_test)\n",
    "y_pred = model.predict(X_test)\n",
    "score = metrics.flat_f1_score(y_test, y_pred, average='weighted', labels=labels)\n",
    "print(f'F1-score weighted: {score}')"
   ]
  },
  {
   "cell_type": "code",
   "execution_count": 13,
   "metadata": {},
   "outputs": [],
   "source": [
    "flat_y_test = sum(y_test, [])\n",
    "flat_y_pred = sum(y_pred, [])"
   ]
  },
  {
   "cell_type": "markdown",
   "metadata": {},
   "source": [
    "Classification report"
   ]
  },
  {
   "cell_type": "code",
   "execution_count": 14,
   "metadata": {},
   "outputs": [
    {
     "name": "stdout",
     "output_type": "stream",
     "text": [
      "              precision    recall  f1-score   support\n",
      "\n",
      "           O       1.00      1.00      1.00     67972\n",
      "           B       0.81      0.38      0.51       266\n",
      "           I       0.82      0.37      0.51       276\n",
      "\n",
      "    accuracy                           0.99     68514\n",
      "   macro avg       0.87      0.58      0.67     68514\n",
      "weighted avg       0.99      0.99      0.99     68514\n",
      "\n"
     ]
    }
   ],
   "source": [
    "class_report = classification_report(y_true=flat_y_test, y_pred=flat_y_pred, labels=labels)\n",
    "print(class_report)"
   ]
  },
  {
   "cell_type": "markdown",
   "metadata": {},
   "source": [
    "Confusion matrix"
   ]
  },
  {
   "cell_type": "code",
   "execution_count": 15,
   "metadata": {},
   "outputs": [
    {
     "data": {
      "text/plain": [
       "[Text(0.5, 12.5, 'predicted'), Text(30.5, 0.5, 'actual')]"
      ]
     },
     "execution_count": 15,
     "metadata": {},
     "output_type": "execute_result"
    },
    {
     "data": {
      "image/png": "[encoded data removed]",
      "text/plain": [
       "<Figure size 432x288 with 2 Axes>"
      ]
     },
     "metadata": {},
     "output_type": "display_data"
    }
   ],
   "source": [
    "conf_mat = confusion_matrix(flat_y_test, flat_y_pred, labels=labels)\n",
    "sns.set(font_scale=1)\n",
    "x_axis_labels = labels\n",
    "y_axis_labels = labels\n",
    "matrix = sns.heatmap(conf_mat, annot=True, fmt='d', linewidths=.5, cmap='flare', xticklabels=x_axis_labels,\n",
    "                     yticklabels=y_axis_labels)\n",
    "matrix.set(xlabel='predicted', ylabel='actual')"
   ]
  },
  {
   "cell_type": "markdown",
   "metadata": {},
   "source": [
    "Neural Network classifier training (GRU)"
   ]
  },
  {
   "cell_type": "code",
   "execution_count": 16,
   "metadata": {},
   "outputs": [],
   "source": [
    "training_data = convert_data(annotated_train)\n",
    "testing_data = convert_data(annotated_test)\n",
    "word_to_ix = {'UNK': 0}\n",
    "for sent, tags in training_data:\n",
    "    for word in sent:\n",
    "        if word not in word_to_ix:\n",
    "            word_to_ix[word] = len(word_to_ix)"
   ]
  },
  {
   "cell_type": "code",
   "execution_count": 17,
   "metadata": {},
   "outputs": [],
   "source": [
    "% % capture\n",
    "alllabels = sum([x[1] for x in training_data], [])\n",
    "weights = compute_class_weight('balanced', ['O', 'B', 'I'], alllabels)"
   ]
  },
  {
   "cell_type": "code",
   "execution_count": 18,
   "metadata": {},
   "outputs": [
    {
     "name": "stdout",
     "output_type": "stream",
     "text": [
      "[ 0.34129696 28.90076869 28.24931694]\n"
     ]
    }
   ],
   "source": [
    "print(weights)"
   ]
  },
  {
   "cell_type": "code",
   "execution_count": 19,
   "metadata": {},
   "outputs": [],
   "source": [
    "trainds = Dataset(training_data, word_to_ix)\n",
    "testds = Dataset(testing_data, word_to_ix)\n",
    "\n",
    "train_dataloader = torch.utils.data.DataLoader(trainds, batch_size=1)\n",
    "test_dataloader = torch.utils.data.DataLoader(testds, batch_size=1)"
   ]
  },
  {
   "cell_type": "code",
   "execution_count": 24,
   "metadata": {},
   "outputs": [
    {
     "name": "stdout",
     "output_type": "stream",
     "text": [
      "1/6\n"
     ]
    },
    {
     "name": "stderr",
     "output_type": "stream",
     "text": [
      "loss: 0.147: 100%|██████████| 5399/5399 [00:34<00:00, 155.46it/s]\n"
     ]
    },
    {
     "name": "stdout",
     "output_type": "stream",
     "text": [
      "2/6\n"
     ]
    },
    {
     "name": "stderr",
     "output_type": "stream",
     "text": [
      "loss: 0.113: 100%|██████████| 5399/5399 [00:33<00:00, 161.13it/s]\n"
     ]
    },
    {
     "name": "stdout",
     "output_type": "stream",
     "text": [
      "3/6\n"
     ]
    },
    {
     "name": "stderr",
     "output_type": "stream",
     "text": [
      "loss: 0.117: 100%|██████████| 5399/5399 [00:34<00:00, 154.47it/s]\n"
     ]
    },
    {
     "name": "stdout",
     "output_type": "stream",
     "text": [
      "4/6\n"
     ]
    },
    {
     "name": "stderr",
     "output_type": "stream",
     "text": [
      "loss: 0.127: 100%|██████████| 5399/5399 [00:36<00:00, 147.57it/s]\n"
     ]
    },
    {
     "name": "stdout",
     "output_type": "stream",
     "text": [
      "5/6\n"
     ]
    },
    {
     "name": "stderr",
     "output_type": "stream",
     "text": [
      "loss: 0.136: 100%|██████████| 5399/5399 [00:36<00:00, 146.77it/s]\n"
     ]
    },
    {
     "name": "stdout",
     "output_type": "stream",
     "text": [
      "6/6\n"
     ]
    },
    {
     "name": "stderr",
     "output_type": "stream",
     "text": [
      "loss: 0.14: 100%|██████████| 5399/5399 [00:36<00:00, 146.77it/s]\n"
     ]
    }
   ],
   "source": [
    "model = GRUTagger(100, 100, len(word_to_ix), 3)\n",
    "model.train()\n",
    "loss_function = nn.CrossEntropyLoss(weight=torch.tensor([0.34070931, 31.16578749, 30.43193525]))\n",
    "optimizer = optim.SGD(model.parameters(), lr=0.1)\n",
    "model = train_model(model, train_dataloader, loss_function, optimizer, 6)"
   ]
  },
  {
   "cell_type": "code",
   "execution_count": 25,
   "metadata": {},
   "outputs": [
    {
     "name": "stderr",
     "output_type": "stream",
     "text": [
      "100%|██████████| 2973/2973 [00:04<00:00, 625.45it/s]\n"
     ]
    },
    {
     "name": "stdout",
     "output_type": "stream",
     "text": [
      "              precision    recall  f1-score   support\n",
      "\n",
      "           0       0.99      1.00      1.00     67971\n",
      "           1       0.30      0.33      0.31       266\n",
      "           2       0.79      0.35      0.49       276\n",
      "\n",
      "    accuracy                           0.99     68513\n",
      "   macro avg       0.70      0.56      0.60     68513\n",
      "weighted avg       0.99      0.99      0.99     68513\n",
      "\n"
     ]
    }
   ],
   "source": [
    "pred, true = evaluate(model, test_dataloader)"
   ]
  },
  {
   "cell_type": "code",
   "execution_count": 26,
   "metadata": {},
   "outputs": [
    {
     "data": {
      "text/plain": [
       "[Text(0.5, 12.5, 'predicted'), Text(30.5, 0.5, 'actual')]"
      ]
     },
     "execution_count": 26,
     "metadata": {},
     "output_type": "execute_result"
    },
    {
     "data": {
      "image/png": "[encoded data removed]",
      "text/plain": [
       "<Figure size 432x288 with 2 Axes>"
      ]
     },
     "metadata": {},
     "output_type": "display_data"
    }
   ],
   "source": [
    "conf_mat = confusion_matrix(true, pred, labels=[0, 1, 2])\n",
    "sns.set(font_scale=1)\n",
    "x_axis_labels = labels\n",
    "y_axis_labels = labels\n",
    "matrix = sns.heatmap(conf_mat, annot=True, fmt='d', linewidths=.5, cmap='flare', xticklabels=x_axis_labels,\n",
    "                     yticklabels=y_axis_labels)\n",
    "matrix.set(xlabel='predicted', ylabel='actual')"
   ]
  }
 ],
 "metadata": {
  "interpreter": {
   "hash": "aee8b7b246df8f9039afb4144a1f6fd8d2ca17a180786b69acc140d282b71a49"
  },
  "kernelspec": {
   "display_name": "Python 3.6.8 64-bit",
   "name": "python3"
  },
  "language_info": {
   "codemirror_mode": {
    "name": "ipython",
    "version": 3
   },
   "file_extension": ".py",
   "mimetype": "text/x-python",
   "name": "python",
   "nbconvert_exporter": "python",
   "pygments_lexer": "ipython3",
   "version": "3.6.8"
  },
  "orig_nbformat": 4
 },
 "nbformat": 4,
 "nbformat_minor": 2
}