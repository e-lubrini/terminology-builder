{
 "cells": [
  {
   "cell_type": "code",
   "execution_count": 91,
   "metadata": {},
   "outputs": [],
   "source": [
    "import os\n",
    "from collections import Counter\n",
    "\n",
    "import seaborn as sns\n",
    "from sklearn.metrics import confusion_matrix, classification_report\n",
    "from sklearn.metrics import confusion_matrix, classification_report\n",
    "from sklearn_crfsuite import metrics\n",
    "from src.articles_extraction import ArticlesExtraction\n",
    "from src.sequence_tagger import CRFSequenceClassifier\n",
    "from src.terms_extraction import RuleBasedExtractor\n",
    "from src.texts_annotation import Annotator, TerminologyTree, fill_terminology_tree"
   ]
  },
  {
   "cell_type": "code",
   "execution_count": 2,
   "metadata": {},
   "outputs": [
    {
     "name": "stdout",
     "output_type": "stream",
     "text": [
      "Getting the links for 30 articles...\n",
      "Getting the texts...\n"
     ]
    }
   ],
   "source": [
    "artextr = ArticlesExtraction(30, save_txt=False, save_pdf=False)\n",
    "articles = artextr.extract()\n",
    "texts = [x for x in list(articles.values())]\n"
   ]
  },
  {
   "cell_type": "code",
   "execution_count": 3,
   "metadata": {},
   "outputs": [],
   "source": [
    "train = texts[:20]  # 20 articles for training\n",
    "test = texts[20:]  # 10 articles for testing"
   ]
  },
  {
   "cell_type": "code",
   "execution_count": 4,
   "metadata": {},
   "outputs": [],
   "source": [
    "r = RuleBasedExtractor()\n",
    "all_terms = r.extract(train)\n"
   ]
  },
  {
   "cell_type": "code",
   "execution_count": 5,
   "metadata": {},
   "outputs": [
    {
     "name": "stdout",
     "output_type": "stream",
     "text": [
      "Number of extracted terms: 23977\n"
     ]
    }
   ],
   "source": [
    "print(f'Number of extracted terms: {len(all_terms)}')"
   ]
  },
  {
   "cell_type": "code",
   "execution_count": 6,
   "metadata": {},
   "outputs": [
    {
     "name": "stdout",
     "output_type": "stream",
     "text": [
      "10 first extracted terms\n",
      "1 tropical forest\n",
      "2 mature tropical forest\n",
      "3 many mature tropical forest\n",
      "4 ecological significance\n",
      "5 p stock\n",
      "6 stock as soil\n",
      "7 soil age\n",
      "8 tropical forest\n",
      "9 forest soil\n",
      "10 various form\n"
     ]
    }
   ],
   "source": [
    "print('10 first extracted terms')\n",
    "for num, term in enumerate(all_terms[:10]):\n",
    "    print(num + 1, term)\n"
   ]
  },
  {
   "cell_type": "code",
   "execution_count": 7,
   "metadata": {},
   "outputs": [
    {
     "name": "stdout",
     "output_type": "stream",
     "text": [
      "Saving 200 the most popular terms in 'data/auto_popular_terms.txt'\n"
     ]
    }
   ],
   "source": [
    "print(\"Saving 200 the most popular terms in 'data/auto_popular_terms.txt'\")\n",
    "if not os.path.exists('data/'):\n",
    "    os.mkdir('data')\n",
    "\n",
    "popular_terms = Counter([x.lower() for x in all_terms]).most_common(200)\n",
    "with open('data/auto_popular_terms.txt', 'w', encoding='utf-8') as autoterms:\n",
    "    for term in popular_terms:\n",
    "        autoterms.write(term[0] + '\\n')\n"
   ]
  },
  {
   "cell_type": "code",
   "execution_count": 8,
   "metadata": {},
   "outputs": [],
   "source": [
    "with open('data/manual_popular_terms.txt', encoding='utf-8') as terms:\n",
    "    terms = terms.read().split('\\n')"
   ]
  },
  {
   "cell_type": "code",
   "execution_count": 9,
   "metadata": {},
   "outputs": [
    {
     "name": "stdout",
     "output_type": "stream",
     "text": [
      "Number of terms before manual filtering: 200\n",
      "Number of terms after manual filtering: 174\n"
     ]
    }
   ],
   "source": [
    "print(f'Number of terms before manual filtering: {len(popular_terms)}')\n",
    "print(f'Number of terms after manual filtering: {len(terms)}')\n"
   ]
  },
  {
   "cell_type": "code",
   "execution_count": 10,
   "metadata": {},
   "outputs": [],
   "source": [
    "print('Train and test datasets annotation')\n",
    "anno = Annotator()\n",
    "tree = TerminologyTree()\n",
    "terminology = [t.split(' ') for t in terms]\n",
    "fill_terminology_tree(terminology, tree)\n",
    "annotated_train = [anno.annotate(tree, text) for text in train]\n",
    "annotated_test = [anno.annotate(tree, text) for text in test]"
   ]
  },
  {
   "cell_type": "code",
   "execution_count": 70,
   "metadata": {},
   "outputs": [
    {
     "name": "stdout",
     "output_type": "stream",
     "text": [
      "CRF sequence classifier training\n"
     ]
    }
   ],
   "source": [
    "print('CRF sequence classifier training')\n",
    "seq = CRFSequenceClassifier()\n",
    "X_train, y_train = seq.convert_corpus(annotated_train)\n",
    "model = seq.fit(X_train, y_train)\n",
    "labels = list(model.classes_)"
   ]
  },
  {
   "cell_type": "code",
   "execution_count": 93,
   "metadata": {},
   "outputs": [
    {
     "name": "stdout",
     "output_type": "stream",
     "text": [
      "F1-score weighted: 0.9935069333322301\n"
     ]
    }
   ],
   "source": [
    "X_test, y_test = seq.convert_corpus(annotated_test)\n",
    "y_pred = model.predict(X_test)\n",
    "score = metrics.flat_f1_score(y_test, y_pred, average='weighted', labels=labels)\n",
    "print(f'F1-score weighted: {score}')"
   ]
  },
  {
   "cell_type": "code",
   "execution_count": 31,
   "metadata": {},
   "outputs": [],
   "source": [
    "flat_y_test = sum(y_test)\n",
    "flat_y_pred = sum(y_pred)"
   ]
  },
  {
   "cell_type": "code",
   "execution_count": 94,
   "metadata": {},
   "outputs": [
    {
     "name": "stdout",
     "output_type": "stream",
     "text": [
      "Classification report\n",
      "              precision    recall  f1-score   support\n",
      "\n",
      "           O       1.00      1.00      1.00     67972\n",
      "           B       0.85      0.38      0.52       266\n",
      "           I       0.85      0.37      0.52       276\n",
      "\n",
      "    accuracy                           0.99     68514\n",
      "   macro avg       0.90      0.58      0.68     68514\n",
      "weighted avg       0.99      0.99      0.99     68514\n",
      "\n"
     ]
    }
   ],
   "source": [
    "class_report = classification_report(y_true=flat_y_test, y_pred=flat_y_pred, labels=labels)\n",
    "print('Classification report')\n",
    "print(class_report)"
   ]
  },
  {
   "cell_type": "code",
   "execution_count": 33,
   "metadata": {},
   "outputs": [
    {
     "data": {
      "text/plain": [
       "[Text(0.5, 12.5, 'predicted'), Text(30.5, 0.5, 'actual')]"
      ]
     },
     "execution_count": 33,
     "metadata": {},
     "output_type": "execute_result"
    },
    {
     "data": {
      "image/png": "[encoded data removed]",
      "text/plain": [
       "<Figure size 432x288 with 2 Axes>"
      ]
     },
     "metadata": {},
     "output_type": "display_data"
    }
   ],
   "source": [
    "conf_mat = confusion_matrix(flat_y_test, flat_y_pred, labels=labels)\n",
    "sns.set(font_scale=1)\n",
    "x_axis_labels = labels\n",
    "y_axis_labels = labels\n",
    "matrix = sns.heatmap(conf_mat, annot=True, fmt='d', linewidths=.5, cmap='flare', xticklabels=x_axis_labels,\n",
    "                     yticklabels=y_axis_labels)\n",
    "matrix.set(xlabel='predicted', ylabel='actual')"
   ]
  }
 ],
 "metadata": {
  "interpreter": {
   "hash": "aee8b7b246df8f9039afb4144a1f6fd8d2ca17a180786b69acc140d282b71a49"
  },
  "kernelspec": {
   "display_name": "Python 3.6.8 64-bit",
   "name": "python3"
  },
  "language_info": {
   "codemirror_mode": {
    "name": "ipython",
    "version": 3
   },
   "file_extension": ".py",
   "mimetype": "text/x-python",
   "name": "python",
   "nbconvert_exporter": "python",
   "pygments_lexer": "ipython3",
   "version": "3.6.8"
  },
  "orig_nbformat": 4
 },
 "nbformat": 4,
 "nbformat_minor": 2
}