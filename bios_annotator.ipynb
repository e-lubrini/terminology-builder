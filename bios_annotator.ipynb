{
 "cells": [
  {
   "cell_type": "code",
   "execution_count": 5,
   "metadata": {},
   "outputs": [
    {
     "name": "stdout",
     "output_type": "stream",
     "text": [
      " __root__\n",
      "> h\n",
      ">> o\n",
      ">>> l\n",
      ">>>> a\n",
      " __root__\n",
      "> h\n",
      ">> o\n",
      ">>> l\n",
      ">>>> a\n",
      ">>>>> s\n",
      " __root__\n",
      "> h\n",
      ">> o\n",
      ">>> l\n",
      ">>>> a\n",
      ">>>>> s\n",
      ">> i\n",
      " __root__\n",
      "> h\n",
      ">> o\n",
      ">>> l\n",
      ">>>> a\n",
      ">>>>> s\n",
      ">> i\n",
      "> l\n",
      ">> u\n",
      ">>> i\n",
      ">>>> s\n",
      "True\n",
      "True\n",
      "True\n",
      "True\n"
     ]
    }
   ],
   "source": [
    "class Node():\n",
    "    def __init__(self, name = None):\n",
    "        self.name = name\n",
    "        self.points_to = dict()\n",
    "        self.stored_value = None \n",
    "        \n",
    "        self.visited = False #for searching\n",
    "\n",
    "    def point_to_node(self, other_node):\n",
    "        self.points_to[other_node.name] = other_node\n",
    "\n",
    "    def is_leaf(self):\n",
    "        return self.points_to == dict()\n",
    "    \n",
    "    def is_empty(self):\n",
    "        return (self.stored_value is None)\n",
    "    \n",
    "    def list_values_in_children(self):\n",
    "        stored_values = []\n",
    "        \n",
    "        if not self.is_empty():\n",
    "            stored_values.append(self.stored_value)\n",
    "\n",
    "        if self.is_leaf():\n",
    "            return stored_values\n",
    "        \n",
    "        for node in self.points_to.values():\n",
    "            stored_values.extend(\n",
    "                node.list_values_in_children()\n",
    "            )\n",
    "        return stored_values\n",
    "            \n",
    "\n",
    "\n",
    "\n",
    "# lexicon\n",
    "# hola, holas, hi, luis\n",
    "\n",
    "root = Node(\"__root__\")\n",
    "\n",
    "#build tree structure\n",
    "def add_word_to_tree(word):\n",
    "\n",
    "    current_node = root\n",
    "    for char in word:\n",
    "        #go to the next node\n",
    "\n",
    "            # if there is no next node, create it\n",
    "        if char not in current_node.points_to.keys():\n",
    "            new_node = Node(char)\n",
    "            current_node.points_to[char] = new_node\n",
    "        else:\n",
    "            new_node = current_node.points_to[char]\n",
    "    \n",
    "        current_node = new_node\n",
    "\n",
    "    #now we are at the end of a path whose nodes spell the word\n",
    "\n",
    "    #store the string in the ending node\n",
    "    current_node.stored_value = word\n",
    "\n",
    "\n",
    " #is the word stored in the tree?\n",
    "\n",
    "def word_in_tree(word):\n",
    "    current_node = root\n",
    "    for char in word:\n",
    "        try:\n",
    "            #print(char, \"\\t\", current_node.points_to)\n",
    "            current_node = current_node.points_to[char]\n",
    "        except:\n",
    "            print(\">>> there was an exception\")\n",
    "            return False\n",
    "\n",
    "    if current_node.stored_value == word:\n",
    "        return True\n",
    "    else:\n",
    "        return False\n",
    "     \n",
    "\n",
    "\n",
    "# search for those words with a specific n-th letter\n",
    "\n",
    "def search_by_letter(character):\n",
    "    \"\"\"return a list of those words that contain the character\"\"\"\n",
    "    # breadth first search\n",
    "\n",
    "    #adapting the pseudocode from\n",
    "    #https://en.wikipedia.org/wiki/Breadth-first_search\n",
    "\n",
    "    queue = []\n",
    "    root.visited = True\n",
    "    queue.append(root)\n",
    "    result = []\n",
    "\n",
    "    while len(queue) != 0:\n",
    "        current_node = queue.pop()\n",
    "\n",
    "        if character == current_node.name:\n",
    "            #print(current_node.name)\n",
    "            #print(current_node.stored_value)\n",
    "            result.extend(\n",
    "                current_node.list_values_in_children()\n",
    "                )\n",
    "\n",
    "        for node in current_node.points_to.values():\n",
    "            if not node.visited:\n",
    "                node.visited = True\n",
    "                queue.append(node)\n",
    "    \n",
    "    unmark_tree() # visited = False for all nodes\n",
    "    return result\n",
    "\n",
    "\n",
    "def unmark_children(node):\n",
    "    \n",
    "    node.visited = False\n",
    "    if node.is_leaf(): #leaf\n",
    "        return\n",
    "    \n",
    "    for nd in node.points_to.values():\n",
    "        unmark_children(nd)\n",
    "\n",
    "def unmark_tree():\n",
    "    return unmark_children(root)\n",
    "    \n",
    "def print_children(node, depth):\n",
    "    \n",
    "    print(\">\"*depth, node.name)\n",
    "    if node.is_leaf(): # leaf\n",
    "        return\n",
    "    \n",
    "    for nd in node.points_to.values():\n",
    "        print_children(nd, depth +1)\n",
    "    \n",
    "def print_tree():\n",
    "    print_children(root, 0)\n",
    "    \n",
    "\n",
    "\n",
    "    \n",
    "\n",
    "lexicon = [\"hola\", \"holas\", \"hi\", \"luis\"]\n",
    "\n",
    "for word in lexicon:\n",
    "    add_word_to_tree(word)\n",
    "    print_tree()\n",
    "\n",
    "for word in lexicon:\n",
    "    print(\n",
    "        word_in_tree(word)\n",
    "    )\n",
    "\n",
    "\n",
    "\n",
    "\n",
    "\n",
    "\n"
   ]
  },
  {
   "cell_type": "code",
   "execution_count": 2,
   "metadata": {},
   "outputs": [
    {
     "name": "stdout",
     "output_type": "stream",
     "text": [
      "True\n",
      "True\n",
      "True\n",
      "True\n"
     ]
    }
   ],
   "source": [
    "for word in lexicon:\n",
    "    print(\n",
    "        word_in_tree(word)\n",
    "    )"
   ]
  },
  {
   "cell_type": "code",
   "execution_count": 11,
   "metadata": {},
   "outputs": [
    {
     "data": {
      "text/plain": [
       "['hola', 'holas', 'hi']"
      ]
     },
     "execution_count": 11,
     "metadata": {},
     "output_type": "execute_result"
    }
   ],
   "source": [
    "search_by_letter(\"h\")"
   ]
  },
  {
   "cell_type": "code",
   "execution_count": null,
   "metadata": {},
   "outputs": [
    {
     "data": {
      "text/plain": [
       "<__main__.Node at 0x7f8ecc270c70>"
      ]
     },
     "execution_count": 4,
     "metadata": {},
     "output_type": "execute_result"
    }
   ],
   "source": [
    "root"
   ]
  },
  {
   "cell_type": "code",
   "execution_count": 4,
   "metadata": {},
   "outputs": [
    {
     "data": {
      "text/plain": [
       "['__class__',\n",
       " '__delattr__',\n",
       " '__dict__',\n",
       " '__dir__',\n",
       " '__doc__',\n",
       " '__eq__',\n",
       " '__format__',\n",
       " '__ge__',\n",
       " '__getattribute__',\n",
       " '__gt__',\n",
       " '__hash__',\n",
       " '__init__',\n",
       " '__init_subclass__',\n",
       " '__le__',\n",
       " '__lt__',\n",
       " '__module__',\n",
       " '__ne__',\n",
       " '__new__',\n",
       " '__reduce__',\n",
       " '__reduce_ex__',\n",
       " '__repr__',\n",
       " '__setattr__',\n",
       " '__sizeof__',\n",
       " '__str__',\n",
       " '__subclasshook__',\n",
       " '__weakref__',\n",
       " 'is_empty',\n",
       " 'is_leaf',\n",
       " 'list_values_in_children',\n",
       " 'name',\n",
       " 'point_to_node',\n",
       " 'points_to',\n",
       " 'stored_value',\n",
       " 'visited']"
      ]
     },
     "execution_count": 4,
     "metadata": {},
     "output_type": "execute_result"
    }
   ],
   "source": [
    "dir(root)"
   ]
  },
  {
   "cell_type": "code",
   "execution_count": null,
   "metadata": {},
   "outputs": [
    {
     "name": "stdout",
     "output_type": "stream",
     "text": [
      " __root__\n",
      "> h\n",
      ">> o\n",
      ">>> l\n",
      ">>>> a\n",
      ">>>>> s\n",
      ">> i\n",
      "> l\n",
      ">> u\n",
      ">>> i\n",
      ">>>> s\n"
     ]
    }
   ],
   "source": [
    "print_tree()"
   ]
  },
  {
   "cell_type": "code",
   "execution_count": null,
   "metadata": {},
   "outputs": [
    {
     "data": {
      "text/plain": [
       "'hi'"
      ]
     },
     "execution_count": 6,
     "metadata": {},
     "output_type": "execute_result"
    }
   ],
   "source": [
    "root.points_to[\"h\"].points_to[\"i\"].stored_value"
   ]
  },
  {
   "cell_type": "code",
   "execution_count": null,
   "metadata": {},
   "outputs": [],
   "source": []
  }
 ],
 "metadata": {
  "interpreter": {
   "hash": "916dbcbb3f70747c44a77c7bcd40155683ae19c65e1c03b4aa3499c5328201f1"
  },
  "kernelspec": {
   "display_name": "Python 3.8.10 64-bit",
   "name": "python3"
  },
  "language_info": {
   "codemirror_mode": {
    "name": "ipython",
    "version": 3
   },
   "file_extension": ".py",
   "mimetype": "text/x-python",
   "name": "python",
   "nbconvert_exporter": "python",
   "pygments_lexer": "ipython3",
   "version": "3.8.10"
  },
  "orig_nbformat": 4
 },
 "nbformat": 4,
 "nbformat_minor": 2
}
